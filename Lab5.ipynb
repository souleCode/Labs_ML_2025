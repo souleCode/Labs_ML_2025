{
 "cells": [
  {
   "cell_type": "markdown",
   "id": "8700fcdd",
   "metadata": {},
   "source": [
    "# Identifier les colonnes qui contiennent une seule valeur\n",
    " - Les colonnes qui ont une seule observation ou valeur sont probablement inutiles pour la modélisation.\n",
    " - Lorsqu’un prédicteur contient une seule valeur, il est appelé prédicteur à variance nulle car il n’y a aucune variation affichée par le prédicteur.\n",
    "    Ici, une valeur unique signifie que chaque ligne de cette colonne a la même valeur.\n",
    " - Vous pouvez détecter les lignes qui ont cette propriété en utilisant la fonction nunique() de Pandas qui indiquera  le nombre de valeurs uniques dans chaque colonne."
   ]
  },
  {
   "cell_type": "code",
   "execution_count": null,
   "id": "98c745d0",
   "metadata": {},
   "outputs": [
    {
     "data": {
      "text/html": [
       "<div>\n",
       "<style scoped>\n",
       "    .dataframe tbody tr th:only-of-type {\n",
       "        vertical-align: middle;\n",
       "    }\n",
       "\n",
       "    .dataframe tbody tr th {\n",
       "        vertical-align: top;\n",
       "    }\n",
       "\n",
       "    .dataframe thead th {\n",
       "        text-align: right;\n",
       "    }\n",
       "</style>\n",
       "<table border=\"1\" class=\"dataframe\">\n",
       "  <thead>\n",
       "    <tr style=\"text-align: right;\">\n",
       "      <th></th>\n",
       "      <th>1</th>\n",
       "      <th>2558</th>\n",
       "      <th>1506.09</th>\n",
       "      <th>456.63</th>\n",
       "      <th>90</th>\n",
       "      <th>6395000</th>\n",
       "      <th>40.88</th>\n",
       "      <th>7.89</th>\n",
       "      <th>29780</th>\n",
       "      <th>0.19</th>\n",
       "      <th>...</th>\n",
       "      <th>2850</th>\n",
       "      <th>1000</th>\n",
       "      <th>763.16</th>\n",
       "      <th>135.46</th>\n",
       "      <th>3.73</th>\n",
       "      <th>0.6</th>\n",
       "      <th>33243.19</th>\n",
       "      <th>65.74</th>\n",
       "      <th>7.95</th>\n",
       "      <th>1.1</th>\n",
       "    </tr>\n",
       "  </thead>\n",
       "  <tbody>\n",
       "    <tr>\n",
       "      <th>0</th>\n",
       "      <td>2</td>\n",
       "      <td>22325</td>\n",
       "      <td>79.11</td>\n",
       "      <td>841.03</td>\n",
       "      <td>180</td>\n",
       "      <td>55812500.0</td>\n",
       "      <td>51.11</td>\n",
       "      <td>1.21</td>\n",
       "      <td>61900.0</td>\n",
       "      <td>0.02</td>\n",
       "      <td>...</td>\n",
       "      <td>5750.00</td>\n",
       "      <td>11500.00</td>\n",
       "      <td>9593.48</td>\n",
       "      <td>1648.80</td>\n",
       "      <td>0.60</td>\n",
       "      <td>0</td>\n",
       "      <td>51572.04</td>\n",
       "      <td>65.73</td>\n",
       "      <td>6.26</td>\n",
       "      <td>0</td>\n",
       "    </tr>\n",
       "    <tr>\n",
       "      <th>1</th>\n",
       "      <td>3</td>\n",
       "      <td>115</td>\n",
       "      <td>1449.85</td>\n",
       "      <td>608.43</td>\n",
       "      <td>88</td>\n",
       "      <td>287500.0</td>\n",
       "      <td>40.42</td>\n",
       "      <td>7.34</td>\n",
       "      <td>3340.0</td>\n",
       "      <td>0.18</td>\n",
       "      <td>...</td>\n",
       "      <td>1400.00</td>\n",
       "      <td>250.00</td>\n",
       "      <td>150.00</td>\n",
       "      <td>45.13</td>\n",
       "      <td>9.33</td>\n",
       "      <td>1</td>\n",
       "      <td>31692.84</td>\n",
       "      <td>65.81</td>\n",
       "      <td>7.84</td>\n",
       "      <td>1</td>\n",
       "    </tr>\n",
       "    <tr>\n",
       "      <th>2</th>\n",
       "      <td>4</td>\n",
       "      <td>1201</td>\n",
       "      <td>1562.53</td>\n",
       "      <td>295.65</td>\n",
       "      <td>66</td>\n",
       "      <td>3002500.0</td>\n",
       "      <td>42.40</td>\n",
       "      <td>7.97</td>\n",
       "      <td>18030.0</td>\n",
       "      <td>0.19</td>\n",
       "      <td>...</td>\n",
       "      <td>6041.52</td>\n",
       "      <td>761.58</td>\n",
       "      <td>453.21</td>\n",
       "      <td>144.97</td>\n",
       "      <td>13.33</td>\n",
       "      <td>1</td>\n",
       "      <td>37696.21</td>\n",
       "      <td>65.67</td>\n",
       "      <td>8.07</td>\n",
       "      <td>1</td>\n",
       "    </tr>\n",
       "    <tr>\n",
       "      <th>3</th>\n",
       "      <td>5</td>\n",
       "      <td>312</td>\n",
       "      <td>950.27</td>\n",
       "      <td>440.86</td>\n",
       "      <td>37</td>\n",
       "      <td>780000.0</td>\n",
       "      <td>41.43</td>\n",
       "      <td>7.03</td>\n",
       "      <td>3350.0</td>\n",
       "      <td>0.17</td>\n",
       "      <td>...</td>\n",
       "      <td>1320.04</td>\n",
       "      <td>710.63</td>\n",
       "      <td>512.54</td>\n",
       "      <td>109.16</td>\n",
       "      <td>2.58</td>\n",
       "      <td>0</td>\n",
       "      <td>29038.17</td>\n",
       "      <td>65.66</td>\n",
       "      <td>7.35</td>\n",
       "      <td>0</td>\n",
       "    </tr>\n",
       "    <tr>\n",
       "      <th>4</th>\n",
       "      <td>6</td>\n",
       "      <td>54</td>\n",
       "      <td>1438.13</td>\n",
       "      <td>544.91</td>\n",
       "      <td>82</td>\n",
       "      <td>135000.0</td>\n",
       "      <td>44.67</td>\n",
       "      <td>6.92</td>\n",
       "      <td>1570.0</td>\n",
       "      <td>0.15</td>\n",
       "      <td>...</td>\n",
       "      <td>608.28</td>\n",
       "      <td>200.00</td>\n",
       "      <td>150.00</td>\n",
       "      <td>52.22</td>\n",
       "      <td>4.06</td>\n",
       "      <td>0</td>\n",
       "      <td>30967.25</td>\n",
       "      <td>65.77</td>\n",
       "      <td>7.85</td>\n",
       "      <td>1</td>\n",
       "    </tr>\n",
       "  </tbody>\n",
       "</table>\n",
       "<p>5 rows × 50 columns</p>\n",
       "</div>"
      ],
      "text/plain": [
       "   1   2558  1506.09  456.63   90     6395000  40.88  7.89    29780  0.19  \\\n",
       "0  2  22325    79.11  841.03  180  55812500.0  51.11  1.21  61900.0  0.02   \n",
       "1  3    115  1449.85  608.43   88    287500.0  40.42  7.34   3340.0  0.18   \n",
       "2  4   1201  1562.53  295.65   66   3002500.0  42.40  7.97  18030.0  0.19   \n",
       "3  5    312   950.27  440.86   37    780000.0  41.43  7.03   3350.0  0.17   \n",
       "4  6     54  1438.13  544.91   82    135000.0  44.67  6.92   1570.0  0.15   \n",
       "\n",
       "   ...     2850      1000   763.16   135.46   3.73  0.6  33243.19  65.74  \\\n",
       "0  ...  5750.00  11500.00  9593.48  1648.80   0.60    0  51572.04  65.73   \n",
       "1  ...  1400.00    250.00   150.00    45.13   9.33    1  31692.84  65.81   \n",
       "2  ...  6041.52    761.58   453.21   144.97  13.33    1  37696.21  65.67   \n",
       "3  ...  1320.04    710.63   512.54   109.16   2.58    0  29038.17  65.66   \n",
       "4  ...   608.28    200.00   150.00    52.22   4.06    0  30967.25  65.77   \n",
       "\n",
       "   7.95  1.1  \n",
       "0  6.26    0  \n",
       "1  7.84    1  \n",
       "2  8.07    1  \n",
       "3  7.35    0  \n",
       "4  7.85    1  \n",
       "\n",
       "[5 rows x 50 columns]"
      ]
     },
     "execution_count": 1,
     "metadata": {},
     "output_type": "execute_result"
    }
   ],
   "source": [
    "import pandas as pd\n",
    "import numpy as np\n",
    "# charger le fichier oil-spill.csv\n",
    "data =pd.read_csv(\"datasets/oil-spill.csv\")\n",
    "# data.head()\n"
   ]
  },
  {
   "cell_type": "code",
   "execution_count": 6,
   "id": "b17c827c",
   "metadata": {},
   "outputs": [
    {
     "name": "stdout",
     "output_type": "stream",
     "text": [
      "1 : 238\n",
      "\n",
      "\n",
      "2558 : 296\n",
      "\n",
      "\n",
      "1506.09 : 926\n",
      "\n",
      "\n",
      "456.63 : 932\n",
      "\n",
      "\n",
      "90 : 179\n",
      "\n",
      "\n",
      "6395000 : 374\n",
      "\n",
      "\n",
      "40.88 : 819\n",
      "\n",
      "\n",
      "7.89 : 617\n",
      "\n",
      "\n",
      "29780 : 560\n",
      "\n",
      "\n",
      "0.19 : 57\n",
      "\n",
      "\n",
      "214.7 : 576\n",
      "\n",
      "\n",
      "0.21 : 59\n",
      "\n",
      "\n",
      "0.26 : 73\n",
      "\n",
      "\n",
      "0.49 : 107\n",
      "\n",
      "\n",
      "0.1 : 53\n",
      "\n",
      "\n",
      "0.4 : 91\n",
      "\n",
      "\n",
      "99.59 : 892\n",
      "\n",
      "\n",
      "32.19 : 809\n",
      "\n",
      "\n",
      "1.84 : 169\n",
      "\n",
      "\n",
      "0.16 : 53\n",
      "\n",
      "\n",
      "0.2 : 68\n",
      "\n",
      "\n",
      "87.65 : 9\n",
      "\n",
      "\n",
      "0 : 1\n",
      "\n",
      "\n",
      "0.47 : 92\n",
      "\n",
      "\n",
      "132.78 : 9\n",
      "\n",
      "\n",
      "-0.01 : 8\n",
      "\n",
      "\n",
      "3.78 : 9\n",
      "\n",
      "\n",
      "0.22 : 308\n",
      "\n",
      "\n",
      "3.2 : 447\n",
      "\n",
      "\n",
      "-3.71 : 391\n",
      "\n",
      "\n",
      "-0.18 : 107\n",
      "\n",
      "\n",
      "2.19 : 42\n",
      "\n",
      "\n",
      "0.3 : 4\n",
      "\n",
      "\n",
      "2.19.1 : 45\n",
      "\n",
      "\n",
      "310 : 141\n",
      "\n",
      "\n",
      "16110 : 110\n",
      "\n",
      "\n",
      "0.5 : 3\n",
      "\n",
      "\n",
      "138.68 : 757\n",
      "\n",
      "\n",
      "89 : 9\n",
      "\n",
      "\n",
      "69 : 9\n",
      "\n",
      "\n",
      "2850 : 387\n",
      "\n",
      "\n",
      "1000 : 219\n",
      "\n",
      "\n",
      "763.16 : 643\n",
      "\n",
      "\n",
      "135.46 : 648\n",
      "\n",
      "\n",
      "3.73 : 499\n",
      "\n",
      "\n",
      "0.6 : 2\n",
      "\n",
      "\n",
      "33243.19 : 936\n",
      "\n",
      "\n",
      "65.74 : 169\n",
      "\n",
      "\n",
      "7.95 : 286\n",
      "\n",
      "\n",
      "1.1 : 2\n",
      "\n",
      "\n"
     ]
    }
   ],
   "source": [
    "# unique values\n",
    "for i in data.columns:\n",
    "    print(i,\":\",data[i].nunique())\n",
    "    print(\"\\n\")"
   ]
  },
  {
   "cell_type": "code",
   "execution_count": 5,
   "id": "075f018d",
   "metadata": {},
   "outputs": [
    {
     "name": "stdout",
     "output_type": "stream",
     "text": [
      "1           238\n",
      "2558        296\n",
      "1506.09     926\n",
      "456.63      932\n",
      "90          179\n",
      "6395000     374\n",
      "40.88       819\n",
      "7.89        617\n",
      "29780       560\n",
      "0.19         57\n",
      "214.7       576\n",
      "0.21         59\n",
      "0.26         73\n",
      "0.49        107\n",
      "0.1          53\n",
      "0.4          91\n",
      "99.59       892\n",
      "32.19       809\n",
      "1.84        169\n",
      "0.16         53\n",
      "0.2          68\n",
      "87.65         9\n",
      "0             1\n",
      "0.47         92\n",
      "132.78        9\n",
      "-0.01         8\n",
      "3.78          9\n",
      "0.22        308\n",
      "3.2         447\n",
      "-3.71       391\n",
      "-0.18       107\n",
      "2.19         42\n",
      "0.3           4\n",
      "2.19.1       45\n",
      "310         141\n",
      "16110       110\n",
      "0.5           3\n",
      "138.68      757\n",
      "89            9\n",
      "69            9\n",
      "2850        387\n",
      "1000        219\n",
      "763.16      643\n",
      "135.46      648\n",
      "3.73        499\n",
      "0.6           2\n",
      "33243.19    936\n",
      "65.74       169\n",
      "7.95        286\n",
      "1.1           2\n",
      "dtype: int64 \n",
      "\n"
     ]
    }
   ],
   "source": [
    "print(data.nunique(),\"\\n\")"
   ]
  },
  {
   "cell_type": "markdown",
   "id": "877fcf4a",
   "metadata": {},
   "source": [
    "# Supprimer les colonnes qui contiennent une seule valeur\n",
    "- Les colonnes sont relativement faciles à supprimer d'un  DataFrame Pandas.\n",
    "\n",
    "- L'approche consiste à enregistrer toutes les colonnes qui ont une seule valeur unique, puis les supprimer en appelant la fonction drop()"
   ]
  },
  {
   "cell_type": "code",
   "execution_count": 9,
   "id": "eb7f6846",
   "metadata": {},
   "outputs": [
    {
     "name": "stdout",
     "output_type": "stream",
     "text": [
      "[22]\n"
     ]
    }
   ],
   "source": [
    "# Supprimer les colonnes avec une seule valeur unique\n",
    "counts= data.nunique()\n",
    "to_del = [i for i,v in enumerate(counts) if v == 1]\n",
    "print(to_del)\n",
    "data= data.drop(data.columns[to_del],axis=1)"
   ]
  },
  {
   "cell_type": "markdown",
   "id": "34893665",
   "metadata": {},
   "source": []
  },
  {
   "cell_type": "code",
   "execution_count": 11,
   "id": "f8c06498",
   "metadata": {},
   "outputs": [
    {
     "data": {
      "text/plain": [
       "(936, 49)"
      ]
     },
     "execution_count": 11,
     "metadata": {},
     "output_type": "execute_result"
    }
   ],
   "source": [
    "data.shape"
   ]
  },
  {
   "cell_type": "code",
   "execution_count": 12,
   "id": "57562d7a",
   "metadata": {},
   "outputs": [
    {
     "data": {
      "text/plain": [
       "(936, 49)"
      ]
     },
     "execution_count": 12,
     "metadata": {},
     "output_type": "execute_result"
    }
   ],
   "source": [
    "# On peut utiliser cette technique pour supprimer les colonnes avec une seule valeur unique\n",
    "data = data.loc[:,data.apply(pd.Series.nunique) != 1]\n",
    "data.shape"
   ]
  },
  {
   "cell_type": "code",
   "execution_count": 10,
   "id": "1df0842c",
   "metadata": {},
   "outputs": [
    {
     "data": {
      "text/plain": [
       "Index(['1', '2558', '1506.09', '456.63', '90', '6395000', '40.88', '7.89',\n",
       "       '29780', '0.19', '214.7', '0.21', '0.26', '0.49', '0.1', '0.4', '99.59',\n",
       "       '32.19', '1.84', '0.16', '0.2', '87.65', '0.47', '132.78', '-0.01',\n",
       "       '3.78', '0.22', '3.2', '-3.71', '-0.18', '2.19', '0.3', '2.19.1', '310',\n",
       "       '16110', '0.5', '138.68', '89', '69', '2850', '1000', '763.16',\n",
       "       '135.46', '3.73', '0.6', '33243.19', '65.74', '7.95', '1.1'],\n",
       "      dtype='object')"
      ]
     },
     "execution_count": 10,
     "metadata": {},
     "output_type": "execute_result"
    }
   ],
   "source": [
    "data.columns"
   ]
  },
  {
   "cell_type": "markdown",
   "id": "87cde9e0",
   "metadata": {},
   "source": [
    "# Considérer les colonnes qui ont très peu de valeurs\n",
    "- Dans la section précédente, nous avons vu que certaines colonnes de\n",
    "l’exemple de jeu de données avaient très peu de valeurs.\n",
    "- Par exemple, certaines colonnes n’avaient que 2, 4 et 9 valeurs uniques.\n",
    "- En tant que tel, n’avoir que 2, 4 ou 9 valeurs numériques uniques dans une colonne peut être surprenant.\n",
    "- Nous pouvons faire référence à ces colonnes ou prédicteurs comme des prédicteurs de variance proche de zéro, comme leur variance n’est pas nulle, mais un très petit nombre proche de zéro."
   ]
  },
  {
   "cell_type": "code",
   "execution_count": null,
   "id": "07896c9d",
   "metadata": {},
   "outputs": [],
   "source": [
    "# calcul le pourcentage de chaque valeur unique pour chaque clonne\n",
    "for i in data.shape[1]:\n",
    "    num= data.iloc[:,i].nunique()\n",
    "    pourcentage= num/data.shape[0]\n",
    "    print(data.columns[i],\":\",num)"
   ]
  },
  {
   "cell_type": "code",
   "execution_count": null,
   "id": "6f226d51",
   "metadata": {},
   "outputs": [],
   "source": []
  },
  {
   "cell_type": "markdown",
   "id": "79a7ab0f",
   "metadata": {},
   "source": [
    "# Supprimer les  colonnes dont les valeurs uniques sont inférieures à 1% des lignes"
   ]
  },
  {
   "cell_type": "code",
   "execution_count": null,
   "id": "a34ef6d6",
   "metadata": {},
   "outputs": [],
   "source": []
  },
  {
   "cell_type": "code",
   "execution_count": null,
   "id": "9f2517c5",
   "metadata": {},
   "outputs": [],
   "source": []
  },
  {
   "cell_type": "code",
   "execution_count": null,
   "id": "c17f28b7",
   "metadata": {},
   "outputs": [],
   "source": []
  },
  {
   "cell_type": "markdown",
   "id": "08a72d91",
   "metadata": {},
   "source": [
    "# Supprimez les colonnes qui ont une faible variance\n",
    "  - **En calculant manuellement la variance de chaque colonne**\n",
    "    - Rappelons que la variance est une statistique calculée sur une variable en tant que différence moyenne au carré des valeurs de l’échantillon par rapport à la moyenne.\n",
    "    - La variance peut être utilisée comme un filtre pour identifier les colonnes à supprimer de l’ensemble de données. Une colonne qui a une seule valeur a une variance de 0.0, et une colonne qui a très peu de valeurs uniques peut avoir une petite variance.\n",
    "  - **En utilisant la classe VarianceThreshold de la bibliothèque scikit-learn**\n",
    "    - La classe VarianceThreshold de la bibliothèque scikit-learn prend en charge ce type de sélection de caractéristiques.\n",
    "    - Une instance de la classe peut être créée et nous pouvons spécifier l’argument du seuil, qui a la valeur par défaut 0.0 pour éliminer les colonnes avec une seule valeur.\n",
    "    - Elle peut ensuite être ajustée et appliquée à un ensemble de données en appelant la fonction fit_transform() pour créer une version transformée de l’ensemble de données où les colonnes dont la variance est inférieure au seuil ont été supprimées automatiquement."
   ]
  },
  {
   "cell_type": "code",
   "execution_count": null,
   "id": "9bc934c0",
   "metadata": {},
   "outputs": [],
   "source": []
  },
  {
   "cell_type": "code",
   "execution_count": null,
   "id": "8f49594e",
   "metadata": {},
   "outputs": [],
   "source": []
  },
  {
   "cell_type": "code",
   "execution_count": null,
   "id": "27828b90",
   "metadata": {},
   "outputs": [],
   "source": []
  },
  {
   "cell_type": "markdown",
   "id": "00720af5",
   "metadata": {},
   "source": [
    "# Etendre cet exemple et voir ce qui se passe lorsque nous utilisons différents seuils. Nous pouvons définir une séquence de seuils de 0.0 à 0.5 avec un pas de 0.05, par exemple 0.0, 0.05, 0.1, etc."
   ]
  },
  {
   "cell_type": "code",
   "execution_count": null,
   "id": "42ff04c4",
   "metadata": {},
   "outputs": [],
   "source": []
  },
  {
   "cell_type": "code",
   "execution_count": null,
   "id": "bc0bf5b2",
   "metadata": {},
   "outputs": [],
   "source": []
  },
  {
   "cell_type": "code",
   "execution_count": null,
   "id": "aac6568f",
   "metadata": {},
   "outputs": [],
   "source": []
  },
  {
   "cell_type": "code",
   "execution_count": null,
   "id": "e4f96219",
   "metadata": {},
   "outputs": [],
   "source": []
  },
  {
   "cell_type": "code",
   "execution_count": null,
   "id": "8c59b196",
   "metadata": {},
   "outputs": [],
   "source": []
  },
  {
   "cell_type": "markdown",
   "id": "adbc58a4",
   "metadata": {},
   "source": [
    "# Tracer les résultats de la comparaison entre le seuil de variance et le nombre de caractéristiques sélectionnées"
   ]
  },
  {
   "cell_type": "code",
   "execution_count": null,
   "id": "c3f5cc20",
   "metadata": {},
   "outputs": [],
   "source": []
  },
  {
   "cell_type": "code",
   "execution_count": null,
   "id": "f6b95db4",
   "metadata": {},
   "outputs": [],
   "source": []
  },
  {
   "cell_type": "code",
   "execution_count": null,
   "id": "0b734077",
   "metadata": {},
   "outputs": [],
   "source": []
  },
  {
   "cell_type": "code",
   "execution_count": null,
   "id": "e903929e",
   "metadata": {},
   "outputs": [],
   "source": []
  }
 ],
 "metadata": {
  "kernelspec": {
   "display_name": "Python 3",
   "language": "python",
   "name": "python3"
  },
  "language_info": {
   "codemirror_mode": {
    "name": "ipython",
    "version": 3
   },
   "file_extension": ".py",
   "mimetype": "text/x-python",
   "name": "python",
   "nbconvert_exporter": "python",
   "pygments_lexer": "ipython3",
   "version": "3.12.2"
  }
 },
 "nbformat": 4,
 "nbformat_minor": 5
}
